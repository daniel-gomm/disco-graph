{
 "cells": [
  {
   "cell_type": "markdown",
   "id": "18335927",
   "metadata": {},
   "source": [
    "# Load Example Publications\n",
    "This nootbook allows to load example publications into the knowledge graph. The example data provided in this repository has been crawled from the [KITopen repository](https://www.bibliothek.kit.edu/kitopen.php). You can follow along this notebook with your own data."
   ]
  },
  {
   "cell_type": "code",
   "execution_count": null,
   "id": "50c19ddf",
   "metadata": {},
   "outputs": [],
   "source": [
    "import json\n",
    "import requests\n",
    "import sys"
   ]
  },
  {
   "cell_type": "markdown",
   "id": "983cfd08",
   "metadata": {},
   "source": [
    "### Configuration\n",
    "Execute the next cell to configure settings for this notebook. Please add an admin account first, since admin priviledges are required to load publications into the knowledge graph."
   ]
  },
  {
   "cell_type": "code",
   "execution_count": null,
   "id": "1df826a6",
   "metadata": {},
   "outputs": [],
   "source": [
    "# Setting some configurations\n",
    "development_input = input('Are you using the development setup? (y/N)')\n",
    "development = False\n",
    "if development_input.lower().startswith('y'):\n",
    "    development = True\n",
    "\n",
    "backend_url = 'http://localhost/api'\n",
    "if development:\n",
    "    backend_url = 'http://localhost:5000'\n",
    "    \n",
    "admin_username = input('Admin username: ')\n",
    "logged_in = False\n",
    "session = requests.Session()\n",
    "\n",
    "while not logged_in:\n",
    "    password = input('Admin password (type \"exit\" to exit this prompt): ')\n",
    "    if password == 'exit':\n",
    "        raise Exception('User exited configuration.')\n",
    "    login_resp = session.post(backend_url + '/auth/admin/login', json={\"username\": admin_username, \"password\": password})\n",
    "    if login_resp.status_code == 200:\n",
    "        print(\"Logged in successfully.\")\n",
    "        logged_in = True\n",
    "    else:\n",
    "        print(\"Login failed. Make sure that the entered credentials are correct. User needs to be an admin.\")"
   ]
  },
  {
   "cell_type": "markdown",
   "id": "5267377a",
   "metadata": {},
   "source": [
    "Load example data from json file"
   ]
  },
  {
   "cell_type": "code",
   "execution_count": null,
   "id": "ad44cb4d",
   "metadata": {},
   "outputs": [],
   "source": [
    "with open('example data/publications_translated.json') as input_file:\n",
    "    publications = json.load(input_file)"
   ]
  },
  {
   "cell_type": "code",
   "execution_count": null,
   "id": "65b7588b",
   "metadata": {},
   "outputs": [],
   "source": [
    "def show_progress(current_item, total_items, prefix=\"\", size=60, out=sys.stdout):\n",
    "    x = int(size*current_item/total_items)\n",
    "    print(f\"{prefix}[{u'█'*x}{('.'*(size-x))}] {current_item}/{total_items}\", end='\\r', file=out, flush=True)"
   ]
  },
  {
   "cell_type": "markdown",
   "id": "5d5fa3e9",
   "metadata": {},
   "source": [
    "Load example data into the knowledge graph"
   ]
  },
  {
   "cell_type": "code",
   "execution_count": null,
   "id": "d040a29e",
   "metadata": {},
   "outputs": [],
   "source": [
    "total_items = len(pubs)\n",
    "\n",
    "for index, publication in enumerate(pubs):\n",
    "    response = session.post(f'{backend_url}/publication/{publication[\"publication_id\"]}', json=publication)\n",
    "    if response.status_code != 200:\n",
    "        print(f'Failed to add publication \"{publication[\"title\"]}\"\\n')\n",
    "    show_progress(index + 1, total_items, 'Adding publications ')"
   ]
  }
 ],
 "metadata": {
  "kernelspec": {
   "display_name": "Python 3 (ipykernel)",
   "language": "python",
   "name": "python3"
  },
  "language_info": {
   "codemirror_mode": {
    "name": "ipython",
    "version": 3
   },
   "file_extension": ".py",
   "mimetype": "text/x-python",
   "name": "python",
   "nbconvert_exporter": "python",
   "pygments_lexer": "ipython3",
   "version": "3.10.6"
  }
 },
 "nbformat": 4,
 "nbformat_minor": 5
}
