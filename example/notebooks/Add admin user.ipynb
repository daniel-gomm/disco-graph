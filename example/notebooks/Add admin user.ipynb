{
 "cells": [
  {
   "cell_type": "markdown",
   "id": "9604b124",
   "metadata": {},
   "source": [
    "# Adding admin user\n",
    "This Notebook guides you through the process of adding a new admin user to disco-graph. Execute the cells below and enter the required data when prompted.\n",
    "This Notebook will perform a request to the graph-connector to add a new admin user."
   ]
  },
  {
   "cell_type": "code",
   "execution_count": null,
   "id": "e27fbfb5",
   "metadata": {},
   "outputs": [],
   "source": [
    "import requests"
   ]
  },
  {
   "cell_type": "code",
   "execution_count": null,
   "id": "6cda3d77",
   "metadata": {},
   "outputs": [],
   "source": [
    "# Setting some configurations\n",
    "development_input = input('Are you using the development setup? (y/N)')\n",
    "development = False\n",
    "if development_input.lower().startswith('y'):\n",
    "    development = True\n",
    "\n",
    "admin_username = input('Set a username for the new admin user. ')\n",
    "password = ''\n",
    "while (len(password) < 15):\n",
    "    password = input('Set a password for the new admin user. ')\n",
    "    if(len(password) < 15):\n",
    "        print('Password to short! Please enter password with a minimum of 15 characters.')\n",
    "\n",
    "secret_token = input('Please enter the secret token (\"debug\" in development mode). ')\n",
    "\n",
    "backend_url = 'http://localhost/api'\n",
    "if development:\n",
    "    backend_url = 'http://localhost:5000'"
   ]
  },
  {
   "cell_type": "code",
   "execution_count": null,
   "id": "0fdbfc7c",
   "metadata": {},
   "outputs": [],
   "source": [
    "# Register admin user\n",
    "session = requests.Session()\n",
    "response = session.post(f'{backend_url}/auth/admin/register', json={\"username\": admin_username, \"password\": password, \"secret\": secret_token})\n",
    "\n",
    "if response.status_code == 200:\n",
    "    print(f'Successfully added new admin user {admin_username}.')\n",
    "else:\n",
    "    print(f'Could not add {admin_username} as new admin user. Please check if you entered the correct secret token and if the correct server is running.')"
   ]
  }
 ],
 "metadata": {
  "kernelspec": {
   "display_name": "Python 3 (ipykernel)",
   "language": "python",
   "name": "python3"
  },
  "language_info": {
   "codemirror_mode": {
    "name": "ipython",
    "version": 3
   },
   "file_extension": ".py",
   "mimetype": "text/x-python",
   "name": "python",
   "nbconvert_exporter": "python",
   "pygments_lexer": "ipython3",
   "version": "3.10.6"
  }
 },
 "nbformat": 4,
 "nbformat_minor": 5
}
