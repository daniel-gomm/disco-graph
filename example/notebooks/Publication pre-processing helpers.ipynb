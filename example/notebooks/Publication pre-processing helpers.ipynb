{
 "cells": [
  {
   "cell_type": "markdown",
   "id": "7b1ca704",
   "metadata": {},
   "source": [
    "# Publication pre-processing Helpers\n",
    "This notebook provides some helpers that can aid in the pre-processing of publications that should be added to sci-graph. Use the provided functions and classes in a way that is fitting your data and usecase."
   ]
  },
  {
   "cell_type": "code",
   "execution_count": null,
   "id": "dd1d7a04",
   "metadata": {},
   "outputs": [],
   "source": [
    "import json\n",
    "import requests\n",
    "import sys"
   ]
  },
  {
   "cell_type": "markdown",
   "id": "78c51d97",
   "metadata": {},
   "source": [
    "## Utilities\n",
    "These methods are used to get utility functionalities, like showing a progressbar."
   ]
  },
  {
   "cell_type": "code",
   "execution_count": null,
   "id": "6c1606db",
   "metadata": {},
   "outputs": [],
   "source": [
    "def show_progress(current_item, total_items, prefix=\"\", size=60, out=sys.stdout):\n",
    "    x = int(size*current_item/total_items)\n",
    "    print(f\"{prefix}[{u'█'*x}{('.'*(size-x))}] {current_item}/{total_items}\", end='\\r', file=out, flush=True)"
   ]
  },
  {
   "cell_type": "markdown",
   "id": "603ab409",
   "metadata": {},
   "source": [
    "## File Handling\n",
    "These helpers help you to load and save publications as json files."
   ]
  },
  {
   "cell_type": "code",
   "execution_count": null,
   "id": "da602c71",
   "metadata": {},
   "outputs": [],
   "source": [
    "def load_file_to_json(filepath: str) -> dict:\n",
    "    with open(filepath) as input_file:\n",
    "        return json.load(input_file)\n",
    "\n",
    "def save_object_to_json_file(filepath: str, object_to_save: any):\n",
    "    json_object = json.dumps(object_to_save)\n",
    "    with open(filepath, 'w+') as output_file:\n",
    "        output_file.write(json_object)"
   ]
  },
  {
   "cell_type": "markdown",
   "id": "93f70ea9",
   "metadata": {},
   "source": [
    "## Clean up\n",
    "These functions help in cleaning up data associated with publications."
   ]
  },
  {
   "cell_type": "code",
   "execution_count": null,
   "id": "bb1da415",
   "metadata": {},
   "outputs": [],
   "source": [
    "# clean keywords by separating keywords that are separated by semicolons and remove keywords \n",
    "# that have non-alphanumeric characters and keywords that contain more than 3 characters that are digits\n",
    "def clean_up_keywords(publication):\n",
    "    for keyword in publication['keywords']:\n",
    "        if '; ' in keyword:\n",
    "            publication['keywords'].remove(keyword)\n",
    "            for kw in keyword.split('; '):\n",
    "                publication['keywords'].append(kw)\n",
    "            clean_up_keywords(publication)\n",
    "            continue\n",
    "        if (not bool(re.match('^[a-zA-Z0-9-_\\säöüÄÖÜß\\']+$', keyword))) or (sum(c.isdigit() for c in keyword) > 3):\n",
    "            print('Not alphanumeric: ' + keyword)\n",
    "            publication['keywords'].remove(keyword)"
   ]
  },
  {
   "cell_type": "markdown",
   "id": "ba3bb016",
   "metadata": {},
   "source": [
    "## Translation\n",
    "These functions can be used to translate keywords using the [deepl api](https://www.deepl.com/docs-api). To reduce api-requests a set of dictionaries are used to cache already fetched results."
   ]
  },
  {
   "cell_type": "code",
   "execution_count": null,
   "id": "26ac678c",
   "metadata": {},
   "outputs": [],
   "source": [
    "# Install dependency\n",
    "!pip install deepl"
   ]
  },
  {
   "cell_type": "code",
   "execution_count": null,
   "id": "7c4a2713",
   "metadata": {},
   "outputs": [],
   "source": [
    "import deepl\n",
    "\n",
    "class KeywordTransformer:\n",
    "    \n",
    "    def __init__(self):\n",
    "        self.cached_translations = 0\n",
    "        self.conducted_translations = 0\n",
    "    \n",
    "    '''\n",
    "    publication: a dictionary of the form:\n",
    "        {\n",
    "        ...\n",
    "        'language': 'en',\n",
    "        'keywords': ['keyword1', 'keyword2', ...],\n",
    "        ...\n",
    "        }\n",
    "    en_de_dict: dictonary that maps english keywords to german translations\n",
    "    de_en_dict: dictonary that maps german keywords to english translations\n",
    "    translator: a deepl translator object, instanciated by calling deepl.Translator(authorization_key)\n",
    "    '''\n",
    "    def transform_and_translate_keywords(self, publication, en_de_dict, de_en_dict, translator):\n",
    "        transformed_keywords = []\n",
    "        for keyword in publication['keywords']:\n",
    "            keyword = keyword.lower()\n",
    "            if len(keyword) <= 1:\n",
    "                continue\n",
    "            # check for duplicate keywords before translating\n",
    "            if any([any([value['value'] == keyword for value in transformed_keyword['values']]) for transformed_keyword in transformed_keywords]):\n",
    "                continue\n",
    "            if publication['language'] == 'en':\n",
    "                keyword_en, keyword_de, en_de_dict, de_en_dict = self.translate_english_text(keyword, en_de_dict, de_en_dict, translator)\n",
    "            else:\n",
    "                keyword_en, keyword_de, en_de_dict, de_en_dict = self.translate_german_text(keyword, en_de_dict, de_en_dict, translator)\n",
    "            transformed_keywords.append({\n",
    "                'values': [{\n",
    "                    'value': keyword_en,\n",
    "                    'language': 'en'\n",
    "                },\n",
    "                {\n",
    "                    'value': keyword_de,\n",
    "                    'language': 'de'\n",
    "                }]\n",
    "            })\n",
    "        return transformed_keywords, en_de_dict, de_en_dict\n",
    "\n",
    "\n",
    "    def translate_english_text(self, text, en_de_dict, de_en_dict, translator):\n",
    "        try:\n",
    "            translation = en_de_dict[text]\n",
    "            self.cached_translations = self.cached_translations + 1\n",
    "            return text, translation, en_de_dict, de_en_dict\n",
    "        except KeyError:\n",
    "            self.conducted_translations = self.conducted_translations + 1\n",
    "            translation_result = translator.translate_text(text, target_lang='DE')\n",
    "            if translation_result.detected_source_lang == 'DE':\n",
    "                return self.translate_german_text(text, en_de_dict, de_en_dict, translator)\n",
    "            try:\n",
    "                en_de_dict[text] = translation_result.text.lower()\n",
    "                de_en_dict[translation_result.text.lower()] = text\n",
    "            except:\n",
    "                print(f'Failed to insert {text}:{translation_result.text.lower()} into the dictionary.')\n",
    "            return text, translation_result.text.lower(), en_de_dict, de_en_dict\n",
    "\n",
    "    def translate_german_text(self, text, en_de_dict, de_en_dict, translator):\n",
    "        try:\n",
    "            translation = de_en_dict[text]\n",
    "            self.cached_translations = self.cached_translations + 1\n",
    "            return translation, text, en_de_dict, de_en_dict\n",
    "        except KeyError:\n",
    "            self.conducted_translations = self.conducted_translations + 1\n",
    "            translation_result = translator.translate_text(text, target_lang='EN-US')\n",
    "            if translation_result.detected_source_lang == 'EN':\n",
    "                return self.translate_english_text(text, en_de_dict, de_en_dict, translator)\n",
    "            try:\n",
    "                de_en_dict[text] = translation_result.text.lower()\n",
    "                en_de_dict[translation_result.text.lower()] = text\n",
    "            except:\n",
    "                print(f'Failed to insert {translation_result.text.lower()}:{text} into the dictionary.')\n",
    "            return translation_result.text.lower(), text, en_de_dict, de_en_dict"
   ]
  }
 ],
 "metadata": {
  "kernelspec": {
   "display_name": "Python 3 (ipykernel)",
   "language": "python",
   "name": "python3"
  },
  "language_info": {
   "codemirror_mode": {
    "name": "ipython",
    "version": 3
   },
   "file_extension": ".py",
   "mimetype": "text/x-python",
   "name": "python",
   "nbconvert_exporter": "python",
   "pygments_lexer": "ipython3",
   "version": "3.10.6"
  }
 },
 "nbformat": 4,
 "nbformat_minor": 5
}
